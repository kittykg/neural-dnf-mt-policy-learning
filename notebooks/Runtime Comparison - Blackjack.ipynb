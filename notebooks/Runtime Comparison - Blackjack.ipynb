{
 "cells": [
  {
   "cell_type": "markdown",
   "metadata": {},
   "source": [
    "# Runtime Comparison - Blackjack\n",
    "\n",
    "Compare the run time of different models: Q table, MLP, NDNF-MT and logic-based\n",
    "programs.\n",
    "\n",
    "Each model is run 100 episodes."
   ]
  },
  {
   "cell_type": "code",
   "execution_count": 1,
   "metadata": {},
   "outputs": [],
   "source": [
    "from datetime import datetime\n",
    "from pathlib import Path\n",
    "import sys\n",
    "\n",
    "sys.path.append(\"..\")"
   ]
  },
  {
   "cell_type": "code",
   "execution_count": 2,
   "metadata": {},
   "outputs": [],
   "source": [
    "import gymnasium as gym\n",
    "import numpy as np\n",
    "import torch"
   ]
  },
  {
   "cell_type": "code",
   "execution_count": 3,
   "metadata": {},
   "outputs": [],
   "source": [
    "from blackjack_common import get_target_policy, construct_model, blackjack_env_preprocess_obss\n",
    "from eval.blackjack_ppo_rl_eval_common import eval_on_environments\n",
    "from eval.blackjack_problog_rules_inference import blackjack_problog_context_gen_fn\n",
    "from eval.problog_inference_common import prolog_inference_in_env_single_run"
   ]
  },
  {
   "cell_type": "code",
   "execution_count": 4,
   "metadata": {},
   "outputs": [],
   "source": [
    "DEVICE = torch.device(\"cpu\")\n",
    "NUM_EPISODES = 10000"
   ]
  },
  {
   "cell_type": "code",
   "execution_count": 5,
   "metadata": {},
   "outputs": [],
   "source": [
    "blackjack_env = gym.make(\"Blackjack-v1\", render_mode=None)"
   ]
  },
  {
   "cell_type": "markdown",
   "metadata": {},
   "source": [
    "# Q table"
   ]
  },
  {
   "cell_type": "code",
   "execution_count": 6,
   "metadata": {},
   "outputs": [
    {
     "name": "stdout",
     "output_type": "stream",
     "text": [
      "Time taken: 0.41561198234558105\n",
      "Avg time per episode: 4.1561198234558106e-05\n"
     ]
    }
   ],
   "source": [
    "# Q table\n",
    "target_policy = get_target_policy(Path(\"../results/BJ-TAB/BLACKJACK-TAB-snb/blackjack_tab_snb.csv\"))\n",
    "\n",
    "start_time = datetime.now().timestamp()\n",
    "\n",
    "for _ in range(NUM_EPISODES):\n",
    "    obs, _ = blackjack_env.reset()\n",
    "    terminated, truncated = False, False\n",
    "    while not terminated and not truncated:\n",
    "        action = target_policy[obs]\n",
    "        obs, _, terminated, truncated, _ = blackjack_env.step(action)\n",
    "\n",
    "end_time = datetime.now().timestamp()\n",
    "\n",
    "print(f\"Time taken: {end_time - start_time}\")\n",
    "print(f\"Avg time per episode: {(end_time - start_time) / NUM_EPISODES}\")"
   ]
  },
  {
   "cell_type": "markdown",
   "metadata": {},
   "source": [
    "## MLP"
   ]
  },
  {
   "cell_type": "code",
   "execution_count": 7,
   "metadata": {},
   "outputs": [
    {
     "name": "stderr",
     "output_type": "stream",
     "text": [
      "/var/folders/64/b3z20xjs19938j8j9psfx4580000gn/T/ipykernel_2563/2575995003.py:11: FutureWarning: You are using `torch.load` with `weights_only=False` (the current default value), which uses the default pickle module implicitly. It is possible to construct malicious pickle data which will execute arbitrary code during unpickling (See https://github.com/pytorch/pytorch/blob/main/SECURITY.md#untrusted-models for more details). In a future release, the default value for `weights_only` will be flipped to `True`. This limits the functions that could be executed during unpickling. Arbitrary objects will no longer be allowed to be loaded via this mode unless they are explicitly allowlisted by the user via `torch.serialization.add_safe_globals`. We recommend you start setting `weights_only=True` for any use case where you don't have full control of the loaded file. Please open an issue on GitHub for any issues related to this experimental feature.\n",
      "  sd = torch.load(\n"
     ]
    },
    {
     "data": {
      "text/plain": [
       "BlackjackMLPAgent(\n",
       "  (actor): Sequential(\n",
       "    (0): Linear(in_features=44, out_features=64, bias=True)\n",
       "    (1): Tanh()\n",
       "    (2): Linear(in_features=64, out_features=2, bias=True)\n",
       "  )\n",
       "  (critic): Sequential(\n",
       "    (0): Linear(in_features=44, out_features=64, bias=True)\n",
       "    (1): Tanh()\n",
       "    (2): Linear(in_features=64, out_features=1, bias=True)\n",
       "  )\n",
       ")"
      ]
     },
     "execution_count": 7,
     "metadata": {},
     "output_type": "execute_result"
    }
   ],
   "source": [
    "# MLP\n",
    "mlp_model = construct_model(\n",
    "    num_latent=64,\n",
    "    use_ndnf=False,\n",
    "    use_decode_obs=True,\n",
    "    use_eo=False,\n",
    "    use_mt=True,\n",
    "    share_layer_with_critic=False,\n",
    ")\n",
    "mlp_model.to(DEVICE)\n",
    "sd = torch.load(\n",
    "    \"../blackjack_ppo_storage/blackjack_ppo_mlp_al64_3e5_3802/model.pth\",\n",
    "    map_location=DEVICE,\n",
    ")\n",
    "mlp_model.load_state_dict(sd)\n",
    "mlp_model.eval()\n"
   ]
  },
  {
   "cell_type": "code",
   "execution_count": 8,
   "metadata": {},
   "outputs": [
    {
     "name": "stdout",
     "output_type": "stream",
     "text": [
      "Time taken: 2.2830190658569336\n",
      "Avg time per episode: 0.00022830190658569335\n"
     ]
    }
   ],
   "source": [
    "# Non-parallel\n",
    "\n",
    "start_time = datetime.now().timestamp()\n",
    "\n",
    "for _ in range(NUM_EPISODES):\n",
    "    obs, _ = blackjack_env.reset()\n",
    "    terminated, truncated = False, False\n",
    "    while not terminated and not truncated:\n",
    "        with torch.no_grad():\n",
    "            obs_tensor = blackjack_env_preprocess_obss(\n",
    "                obs_tuple=(\n",
    "                    np.array([obs[0]]),\n",
    "                    np.array([obs[1]]),\n",
    "                    np.array([obs[2]]),\n",
    "                ),\n",
    "                use_ndnf=False,\n",
    "                device=DEVICE,\n",
    "            )\n",
    "        action = mlp_model.get_actions(obs_tensor, use_argmax=False)[0]\n",
    "        obs, _, terminated, truncated, _ = blackjack_env.step(action)\n",
    "\n",
    "end_time = datetime.now().timestamp()\n",
    "print(f\"Time taken: {end_time - start_time}\")\n",
    "print(f\"Avg time per episode: {(end_time - start_time) / NUM_EPISODES}\")"
   ]
  },
  {
   "cell_type": "code",
   "execution_count": 9,
   "metadata": {},
   "outputs": [
    {
     "name": "stdout",
     "output_type": "stream",
     "text": [
      "Time taken: 1.1566901206970215\n",
      "Avg time per episode: 0.00011566901206970215\n"
     ]
    }
   ],
   "source": [
    "# Parallel\n",
    "start_time = datetime.now().timestamp()\n",
    "eval_on_environments(\n",
    "    model=mlp_model,\n",
    "    device=DEVICE,\n",
    "    use_argmax=False,\n",
    "    eval_num_runs=NUM_EPISODES,\n",
    ")\n",
    "end_time = datetime.now().timestamp()\n",
    "\n",
    "print(f\"Time taken: {end_time - start_time}\")\n",
    "print(f\"Avg time per episode: {(end_time - start_time) / NUM_EPISODES}\")"
   ]
  },
  {
   "cell_type": "markdown",
   "metadata": {},
   "source": [
    "# NDNF-MT"
   ]
  },
  {
   "cell_type": "code",
   "execution_count": 10,
   "metadata": {},
   "outputs": [
    {
     "name": "stderr",
     "output_type": "stream",
     "text": [
      "/var/folders/64/b3z20xjs19938j8j9psfx4580000gn/T/ipykernel_2563/2648655595.py:11: FutureWarning: You are using `torch.load` with `weights_only=False` (the current default value), which uses the default pickle module implicitly. It is possible to construct malicious pickle data which will execute arbitrary code during unpickling (See https://github.com/pytorch/pytorch/blob/main/SECURITY.md#untrusted-models for more details). In a future release, the default value for `weights_only` will be flipped to `True`. This limits the functions that could be executed during unpickling. Arbitrary objects will no longer be allowed to be loaded via this mode unless they are explicitly allowlisted by the user via `torch.serialization.add_safe_globals`. We recommend you start setting `weights_only=True` for any use case where you don't have full control of the loaded file. Please open an issue on GitHub for any issues related to this experimental feature.\n",
      "  sd = torch.load(\n"
     ]
    },
    {
     "data": {
      "text/plain": [
       "BlackjackNDNFMutexTanhAgent(\n",
       "  (actor): NeuralDNFMutexTanh(\n",
       "    (conjunctions): SemiSymbolic(in_features=44, out_features=64, layer_type=SemiSymbolicLayerType.CONJUNCTION,current_delta=1.00)\n",
       "    (disjunctions): SemiSymbolicMutexTanh(in_features=64, out_features=2, layer_type=SemiSymbolicLayerType.DISJUNCTION,current_delta=1.00)\n",
       "  )\n",
       "  (critic): Sequential(\n",
       "    (0): Linear(in_features=44, out_features=64, bias=True)\n",
       "    (1): Tanh()\n",
       "    (2): Linear(in_features=64, out_features=1, bias=True)\n",
       "  )\n",
       ")"
      ]
     },
     "execution_count": 10,
     "metadata": {},
     "output_type": "execute_result"
    }
   ],
   "source": [
    "# NDNF-MT\n",
    "ndnf_mt_model = construct_model(\n",
    "    num_latent=64,\n",
    "    use_ndnf=True,\n",
    "    use_decode_obs=True,\n",
    "    use_eo=False,\n",
    "    use_mt=True,\n",
    "    share_layer_with_critic=False,\n",
    ")\n",
    "ndnf_mt_model.to(DEVICE)\n",
    "sd = torch.load(\n",
    "    \"../blackjack_ppo_storage/blackjack_ppo_ndnf_mt_al64_3e5_aux10_7142/model_soft_2nd_mr_pruned.pth\",\n",
    "    map_location=DEVICE,\n",
    ")\n",
    "ndnf_mt_model.load_state_dict(sd)\n",
    "ndnf_mt_model.eval()\n"
   ]
  },
  {
   "cell_type": "code",
   "execution_count": 11,
   "metadata": {},
   "outputs": [
    {
     "name": "stdout",
     "output_type": "stream",
     "text": [
      "Time taken: 5.563965082168579\n",
      "Avg time per episode: 0.0005563965082168579\n"
     ]
    }
   ],
   "source": [
    "# Non-parallel\n",
    "\n",
    "start_time = datetime.now().timestamp()\n",
    "\n",
    "for _ in range(NUM_EPISODES):\n",
    "    obs, _ = blackjack_env.reset()\n",
    "    terminated, truncated = False, False\n",
    "    while not terminated and not truncated:\n",
    "        with torch.no_grad():\n",
    "            obs_tensor = blackjack_env_preprocess_obss(\n",
    "                obs_tuple=(\n",
    "                    np.array([obs[0]]),\n",
    "                    np.array([obs[1]]),\n",
    "                    np.array([obs[2]]),\n",
    "                ),\n",
    "                use_ndnf=False,\n",
    "                device=DEVICE,\n",
    "            )\n",
    "        action = ndnf_mt_model.get_actions(obs_tensor, use_argmax=False)[0][0]\n",
    "        obs, _, terminated, truncated, _ = blackjack_env.step(action)\n",
    "\n",
    "end_time = datetime.now().timestamp()\n",
    "print(f\"Time taken: {end_time - start_time}\")\n",
    "print(f\"Avg time per episode: {(end_time - start_time) / NUM_EPISODES}\")"
   ]
  },
  {
   "cell_type": "code",
   "execution_count": 12,
   "metadata": {},
   "outputs": [
    {
     "name": "stdout",
     "output_type": "stream",
     "text": [
      "Time taken: 1.573606014251709\n",
      "Avg time per episode: 0.0001573606014251709\n"
     ]
    }
   ],
   "source": [
    "# Parallel\n",
    "start_time = datetime.now().timestamp()\n",
    "eval_on_environments(\n",
    "    model=ndnf_mt_model,\n",
    "    device=DEVICE,\n",
    "    use_argmax=False,\n",
    "    eval_num_runs=NUM_EPISODES,\n",
    ")\n",
    "end_time = datetime.now().timestamp()\n",
    "\n",
    "print(f\"Time taken: {end_time - start_time}\")\n",
    "print(f\"Avg time per episode: {(end_time - start_time) / NUM_EPISODES}\")"
   ]
  },
  {
   "cell_type": "markdown",
   "metadata": {},
   "source": [
    "# ProbLog"
   ]
  },
  {
   "cell_type": "code",
   "execution_count": 13,
   "metadata": {},
   "outputs": [],
   "source": [
    "# ProbLog\n",
    "\n",
    "with open(\"../blackjack_ppo_storage/blackjack_ppo_ndnf_mt_al64_3e5_aux10_1681/problog_rules.pl\", \"r\") as f:\n",
    "    problog_rules = f.readlines()\n",
    "problog_rules = [r.strip() for r in problog_rules]"
   ]
  },
  {
   "cell_type": "code",
   "execution_count": 14,
   "metadata": {},
   "outputs": [
    {
     "name": "stdout",
     "output_type": "stream",
     "text": [
      "Time taken: 21.583281993865967\n",
      "Avg time per episode: 2.1583281993865966\n"
     ]
    }
   ],
   "source": [
    "start_time = datetime.now().timestamp()\n",
    "\n",
    "for _ in range(10):\n",
    "    prolog_inference_in_env_single_run(\n",
    "        env=blackjack_env,\n",
    "        problog_rules=problog_rules,\n",
    "        num_actions=2,\n",
    "        context_problog_gen_fn=blackjack_problog_context_gen_fn,\n",
    "        use_argmax=False,\n",
    "    )\n",
    "\n",
    "end_time = datetime.now().timestamp()\n",
    "\n",
    "print(f\"Time taken: {end_time - start_time}\")\n",
    "print(f\"Avg time per episode: {(end_time - start_time) / 10}\")"
   ]
  }
 ],
 "metadata": {
  "kernelspec": {
   "display_name": "phd",
   "language": "python",
   "name": "python3"
  },
  "language_info": {
   "codemirror_mode": {
    "name": "ipython",
    "version": 3
   },
   "file_extension": ".py",
   "mimetype": "text/x-python",
   "name": "python",
   "nbconvert_exporter": "python",
   "pygments_lexer": "ipython3",
   "version": "3.10.12"
  }
 },
 "nbformat": 4,
 "nbformat_minor": 2
}
