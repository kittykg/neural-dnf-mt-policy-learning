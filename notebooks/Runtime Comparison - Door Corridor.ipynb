{
 "cells": [
  {
   "cell_type": "markdown",
   "metadata": {},
   "source": [
    "# Runtime Comparison - Door Corridor\n",
    "\n",
    "Compare the run time of different models: Q table, MLP, NDNF-MT and logic-based\n",
    "programs.\n",
    "\n",
    "Each model is run 100 episodes.\n"
   ]
  },
  {
   "cell_type": "code",
   "execution_count": 1,
   "metadata": {},
   "outputs": [],
   "source": [
    "from datetime import datetime\n",
    "import sys\n",
    "\n",
    "sys.path.append(\"..\")"
   ]
  },
  {
   "cell_type": "code",
   "execution_count": 2,
   "metadata": {},
   "outputs": [],
   "source": [
    "import gymnasium as gym\n",
    "from hydra import compose, initialize\n",
    "import torch"
   ]
  },
  {
   "cell_type": "code",
   "execution_count": 3,
   "metadata": {},
   "outputs": [],
   "source": [
    "from corridor_grid.envs import DoorCorridorEnv\n",
    "\n",
    "from door_corridor_ppo import construct_model, make_env\n",
    "from eval.door_corridor_asp_rules_inference import rule_eval\n",
    "from eval.door_corridor_ppo_multirun_rl_performance_eval import simulate"
   ]
  },
  {
   "cell_type": "code",
   "execution_count": 4,
   "metadata": {},
   "outputs": [],
   "source": [
    "DEVICE = torch.device(\"cpu\")\n",
    "NUM_EPISODES = 10000\n",
    "NUM_PROCESSES = 8"
   ]
  },
  {
   "cell_type": "code",
   "execution_count": 5,
   "metadata": {},
   "outputs": [],
   "source": [
    "dc_env = DoorCorridorEnv(render_mode=None)\n",
    "envs = gym.vector.SyncVectorEnv(\n",
    "    [make_env(i, i, False) for i in range(NUM_PROCESSES)]\n",
    ")"
   ]
  },
  {
   "cell_type": "markdown",
   "metadata": {},
   "source": [
    "## MLP\n"
   ]
  },
  {
   "cell_type": "code",
   "execution_count": 6,
   "metadata": {},
   "outputs": [
    {
     "name": "stderr",
     "output_type": "stream",
     "text": [
      "/var/folders/64/b3z20xjs19938j8j9psfx4580000gn/T/ipykernel_20507/1582005332.py:12: FutureWarning: You are using `torch.load` with `weights_only=False` (the current default value), which uses the default pickle module implicitly. It is possible to construct malicious pickle data which will execute arbitrary code during unpickling (See https://github.com/pytorch/pytorch/blob/main/SECURITY.md#untrusted-models for more details). In a future release, the default value for `weights_only` will be flipped to `True`. This limits the functions that could be executed during unpickling. Arbitrary objects will no longer be allowed to be loaded via this mode unless they are explicitly allowlisted by the user via `torch.serialization.add_safe_globals`. We recommend you start setting `weights_only=True` for any use case where you don't have full control of the loaded file. Please open an issue on GitHub for any issues related to this experimental feature.\n",
      "  sd = torch.load(\n"
     ]
    },
    {
     "data": {
      "text/plain": [
       "DCPPOMLPAgent(\n",
       "  (image_encoder): Sequential(\n",
       "    (0): Conv2d(2, 4, kernel_size=(1, 1), stride=(1, 1))\n",
       "    (1): Tanh()\n",
       "  )\n",
       "  (extra_layer): Sequential(\n",
       "    (0): Linear(in_features=36, out_features=16, bias=True)\n",
       "    (1): Tanh()\n",
       "  )\n",
       "  (actor): Sequential(\n",
       "    (0): Linear(in_features=16, out_features=64, bias=True)\n",
       "    (1): Tanh()\n",
       "    (2): Linear(in_features=64, out_features=4, bias=True)\n",
       "  )\n",
       "  (critic): Sequential(\n",
       "    (0): Linear(in_features=16, out_features=64, bias=True)\n",
       "    (1): Tanh()\n",
       "    (2): Linear(in_features=64, out_features=1, bias=True)\n",
       "  )\n",
       ")"
      ]
     },
     "execution_count": 6,
     "metadata": {},
     "output_type": "execute_result"
    }
   ],
   "source": [
    "# MLP\n",
    "with initialize(version_base=None, config_path=\"../conf\"):\n",
    "    cfg = compose(\n",
    "        config_name=\"config\",\n",
    "        overrides=[\"+eval=door_corridor_ppo_mlp_multirun_eval\"],\n",
    "    )\n",
    "\n",
    "mlp_model = construct_model(\n",
    "    cfg=cfg[\"eval\"],\n",
    "    num_actions=dc_env.get_num_actions(),\n",
    "    use_ndnf=False,\n",
    "    img_obs_space=dc_env.observation_space[\"image\"],  # type: ignore\n",
    ")\n",
    "mlp_model.to(DEVICE)\n",
    "sd = torch.load(\n",
    "    \"../dc_ppo_storage/dc5_ppo_mlp_k1eoc4_tanh_exl16_3e5_2457/model.pth\",\n",
    "    map_location=DEVICE,\n",
    ")\n",
    "mlp_model.load_state_dict(sd)\n",
    "mlp_model.eval()"
   ]
  },
  {
   "cell_type": "code",
   "execution_count": 7,
   "metadata": {},
   "outputs": [
    {
     "name": "stdout",
     "output_type": "stream",
     "text": [
      "Time taken: 10.17816710472107\n",
      "Avg time per episode: 0.0010178167104721069\n"
     ]
    }
   ],
   "source": [
    "# Non-parallel\n",
    "\n",
    "start_time = datetime.now().timestamp()\n",
    "\n",
    "for _ in range(NUM_EPISODES):\n",
    "    obs, _ = dc_env.reset()\n",
    "    terminated, truncated = False, False\n",
    "    while not terminated and not truncated:\n",
    "        with torch.no_grad():\n",
    "            action = mlp_model.get_actions(\n",
    "                preprocessed_obs={\n",
    "                    \"image\": torch.tensor(obs[\"image\"].copy(), device=DEVICE)\n",
    "                    .unsqueeze(0)\n",
    "                    .float()\n",
    "                },\n",
    "                use_argmax=True,\n",
    "            )[0]\n",
    "        obs, _, terminated, truncated, _ = dc_env.step(action)\n",
    "\n",
    "end_time = datetime.now().timestamp()\n",
    "print(f\"Time taken: {end_time - start_time}\")\n",
    "print(f\"Avg time per episode: {(end_time - start_time) / NUM_EPISODES}\")"
   ]
  },
  {
   "cell_type": "code",
   "execution_count": 8,
   "metadata": {},
   "outputs": [
    {
     "name": "stdout",
     "output_type": "stream",
     "text": [
      "Time taken: 0.07258200645446777\n",
      "Avg time per episode: 7.258200645446778e-06\n"
     ]
    }
   ],
   "source": [
    "# Parallel\n",
    "start_time = datetime.now().timestamp()\n",
    "simulate(envs, mlp_model)\n",
    "end_time = datetime.now().timestamp()\n",
    "\n",
    "print(f\"Time taken: {end_time - start_time}\")\n",
    "print(f\"Avg time per episode: {(end_time - start_time) / NUM_EPISODES}\")"
   ]
  },
  {
   "cell_type": "markdown",
   "metadata": {},
   "source": [
    "# NDNF-MT\n"
   ]
  },
  {
   "cell_type": "code",
   "execution_count": 9,
   "metadata": {},
   "outputs": [
    {
     "name": "stderr",
     "output_type": "stream",
     "text": [
      "/var/folders/64/b3z20xjs19938j8j9psfx4580000gn/T/ipykernel_20507/4286913298.py:11: FutureWarning: You are using `torch.load` with `weights_only=False` (the current default value), which uses the default pickle module implicitly. It is possible to construct malicious pickle data which will execute arbitrary code during unpickling (See https://github.com/pytorch/pytorch/blob/main/SECURITY.md#untrusted-models for more details). In a future release, the default value for `weights_only` will be flipped to `True`. This limits the functions that could be executed during unpickling. Arbitrary objects will no longer be allowed to be loaded via this mode unless they are explicitly allowlisted by the user via `torch.serialization.add_safe_globals`. We recommend you start setting `weights_only=True` for any use case where you don't have full control of the loaded file. Please open an issue on GitHub for any issues related to this experimental feature.\n",
      "  sd = torch.load(\n"
     ]
    },
    {
     "data": {
      "text/plain": [
       "DCPPONDNFMutexTanhAgent(\n",
       "  (image_encoder): Sequential(\n",
       "    (0): Conv2d(2, 4, kernel_size=(1, 1), stride=(1, 1))\n",
       "    (1): Tanh()\n",
       "  )\n",
       "  (extra_layer): Sequential(\n",
       "    (0): Linear(in_features=36, out_features=16, bias=True)\n",
       "    (1): Tanh()\n",
       "  )\n",
       "  (actor): NeuralDNFMutexTanh(\n",
       "    (conjunctions): SemiSymbolic(in_features=16, out_features=12, layer_type=SemiSymbolicLayerType.CONJUNCTION,current_delta=1.00)\n",
       "    (disjunctions): SemiSymbolicMutexTanh(in_features=12, out_features=4, layer_type=SemiSymbolicLayerType.DISJUNCTION,current_delta=1.00)\n",
       "  )\n",
       "  (critic): Sequential(\n",
       "    (0): Linear(in_features=16, out_features=64, bias=True)\n",
       "    (1): Tanh()\n",
       "    (2): Linear(in_features=64, out_features=1, bias=True)\n",
       "  )\n",
       ")"
      ]
     },
     "execution_count": 9,
     "metadata": {},
     "output_type": "execute_result"
    }
   ],
   "source": [
    "# NDNF-MT\n",
    "with initialize(version_base=None, config_path=\"../conf\"):\n",
    "    cfg = compose(\n",
    "        config_name=\"config\",\n",
    "        overrides=[\"+eval=door_corridor_ppo_ndnf_mt_multirun_eval\"],\n",
    "    )\n",
    "ndnf_mt_model = construct_model(\n",
    "    cfg=cfg[\"eval\"],\n",
    "    num_actions=dc_env.get_num_actions(),\n",
    "    use_ndnf=True,\n",
    "    img_obs_space=dc_env.observation_space[\"image\"],  # type: ignore\n",
    ")\n",
    "ndnf_mt_model.to(DEVICE)\n",
    "sd = torch.load(\n",
    "    \"../dc_ppo_storage/dc5_ppo_ndnf_mt_k1eoc4_tanh_exl16_3e5_aux_6731/model_2nd_mr_pruned.pth\",\n",
    "    map_location=DEVICE,\n",
    ")\n",
    "ndnf_mt_model.load_state_dict(sd)\n",
    "ndnf_mt_model.eval()"
   ]
  },
  {
   "cell_type": "code",
   "execution_count": 10,
   "metadata": {},
   "outputs": [
    {
     "name": "stdout",
     "output_type": "stream",
     "text": [
      "Time taken: 36.72632598876953\n",
      "Avg time per episode: 0.003672632598876953\n"
     ]
    }
   ],
   "source": [
    "# Non-parallel\n",
    "\n",
    "start_time = datetime.now().timestamp()\n",
    "\n",
    "for _ in range(NUM_EPISODES):\n",
    "    obs, _ = dc_env.reset()\n",
    "    terminated, truncated = False, False\n",
    "    while not terminated and not truncated:\n",
    "        with torch.no_grad():\n",
    "            action = ndnf_mt_model.get_actions(\n",
    "                preprocessed_obs={\n",
    "                    \"image\": torch.tensor(obs[\"image\"].copy(), device=DEVICE)\n",
    "                    .unsqueeze(0)\n",
    "                    .float()\n",
    "                },\n",
    "                use_argmax=True,\n",
    "            )[0][0]\n",
    "        obs, _, terminated, truncated, _ = dc_env.step(action)\n",
    "\n",
    "\n",
    "end_time = datetime.now().timestamp()\n",
    "print(f\"Time taken: {end_time - start_time}\")\n",
    "print(f\"Avg time per episode: {(end_time - start_time) / NUM_EPISODES}\")"
   ]
  },
  {
   "cell_type": "code",
   "execution_count": 11,
   "metadata": {},
   "outputs": [
    {
     "name": "stdout",
     "output_type": "stream",
     "text": [
      "Time taken: 0.11115288734436035\n",
      "Avg time per episode: 1.1115288734436035e-05\n"
     ]
    }
   ],
   "source": [
    "# Parallel\n",
    "start_time = datetime.now().timestamp()\n",
    "simulate(envs, ndnf_mt_model)\n",
    "end_time = datetime.now().timestamp()\n",
    "\n",
    "print(f\"Time taken: {end_time - start_time}\")\n",
    "print(f\"Avg time per episode: {(end_time - start_time) / NUM_EPISODES}\")"
   ]
  },
  {
   "cell_type": "markdown",
   "metadata": {},
   "source": [
    "# ASP\n"
   ]
  },
  {
   "cell_type": "code",
   "execution_count": 12,
   "metadata": {},
   "outputs": [],
   "source": [
    "# ASP\n",
    "\n",
    "with open(\n",
    "    \"../dc_ppo_storage/dc5_ppo_ndnf_mt_k1eoc4_tanh_exl16_3e5_aux_6731/asp_rules.lp\",\n",
    "    \"r\",\n",
    ") as f:\n",
    "    asp_rules = f.readlines()\n",
    "asp_rules = [r.strip() for r in asp_rules]"
   ]
  },
  {
   "cell_type": "code",
   "execution_count": 14,
   "metadata": {},
   "outputs": [
    {
     "name": "stdout",
     "output_type": "stream",
     "text": [
      "Time taken: 25.296003103256226\n",
      "Avg time per episode: 0.025296003103256224\n"
     ]
    }
   ],
   "source": [
    "N_ASP_EVAL_EPISODES = 1000\n",
    "\n",
    "start_time = datetime.now().timestamp()\n",
    "\n",
    "for _ in range(N_ASP_EVAL_EPISODES):\n",
    "    rule_eval(ndnf_mt_model, asp_rules)  # type: ignore\n",
    "\n",
    "end_time = datetime.now().timestamp()\n",
    "\n",
    "print(f\"Time taken: {end_time - start_time}\")\n",
    "print(f\"Avg time per episode: {(end_time - start_time) / N_ASP_EVAL_EPISODES}\")"
   ]
  }
 ],
 "metadata": {
  "kernelspec": {
   "display_name": "phd",
   "language": "python",
   "name": "python3"
  },
  "language_info": {
   "codemirror_mode": {
    "name": "ipython",
    "version": 3
   },
   "file_extension": ".py",
   "mimetype": "text/x-python",
   "name": "python",
   "nbconvert_exporter": "python",
   "pygments_lexer": "ipython3",
   "version": "3.10.12"
  }
 },
 "nbformat": 4,
 "nbformat_minor": 2
}
