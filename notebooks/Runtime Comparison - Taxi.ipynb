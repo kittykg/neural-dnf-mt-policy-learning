{
 "cells": [
  {
   "cell_type": "markdown",
   "metadata": {},
   "source": [
    "# Runtime Comparison - Taxi\n",
    "\n",
    "Compare the run time of different models: Q table, MLP, NDNF-MT and logic-based\n",
    "programs.\n",
    "\n",
    "Each model is run 100 episodes.\n"
   ]
  },
  {
   "cell_type": "code",
   "execution_count": 1,
   "metadata": {},
   "outputs": [],
   "source": [
    "from datetime import datetime\n",
    "from pathlib import Path\n",
    "import sys\n",
    "\n",
    "sys.path.append(\"..\")"
   ]
  },
  {
   "cell_type": "code",
   "execution_count": 2,
   "metadata": {},
   "outputs": [],
   "source": [
    "import gymnasium as gym\n",
    "import numpy as np\n",
    "import pandas as pd\n",
    "import torch"
   ]
  },
  {
   "cell_type": "code",
   "execution_count": 3,
   "metadata": {},
   "outputs": [],
   "source": [
    "from neural_dnf.neural_dnf import NeuralDNFMutexTanh\n",
    "\n",
    "from eval.problog_inference_common import prolog_inference_in_env_single_run\n",
    "from eval.taxi_ppo_rl_eval_common import eval_model_on_environment\n",
    "from eval.taxi_problog_rules_inference import taxi_problog_context_gen_fn\n",
    "from eval.taxi_distillation_rl_eval_common import (\n",
    "    eval_on_environments,\n",
    "    eval_get_ndnf_action,\n",
    ")\n",
    "from taxi_common import construct_model, taxi_env_preprocess_obs"
   ]
  },
  {
   "cell_type": "code",
   "execution_count": 4,
   "metadata": {},
   "outputs": [],
   "source": [
    "DEVICE = torch.device(\"cpu\")\n",
    "NUM_EPISODES = 10000"
   ]
  },
  {
   "cell_type": "code",
   "execution_count": 5,
   "metadata": {},
   "outputs": [],
   "source": [
    "taxi_env = gym.make(\"Taxi-v3\", render_mode=None)"
   ]
  },
  {
   "cell_type": "markdown",
   "metadata": {},
   "source": [
    "# Q table\n"
   ]
  },
  {
   "cell_type": "code",
   "execution_count": 6,
   "metadata": {},
   "outputs": [
    {
     "name": "stdout",
     "output_type": "stream",
     "text": [
      "Time taken: 1.2021000385284424\n",
      "Avg time per episode: 0.00012021000385284423\n"
     ]
    }
   ],
   "source": [
    "# Q table\n",
    "with open(\n",
    "    Path(\n",
    "        \"../results/Taxi-TAB/TAXI-TAB-q-1e4/TAXI-TAB-q-1e4-1771/taxi_tab_q_1e4_1771.csv\"\n",
    "    ),\n",
    "    \"r\",\n",
    ") as f:\n",
    "    df = pd.read_csv(f, index_col=None)\n",
    "target_policy = df.to_numpy()\n",
    "\n",
    "\n",
    "def get_action_from_q_table(\n",
    "    q_table: np.ndarray, obs: int, use_argmax: bool, epsilon: float\n",
    ") -> int:\n",
    "    if use_argmax:\n",
    "        return int(np.argmax(q_table[obs]))\n",
    "    else:\n",
    "        if np.random.rand() < epsilon:\n",
    "            return np.random.randint(2)\n",
    "        return int(np.argmax(q_table[obs]))\n",
    "\n",
    "\n",
    "start_time = datetime.now().timestamp()\n",
    "\n",
    "for _ in range(NUM_EPISODES):\n",
    "    obs, _ = taxi_env.reset()\n",
    "    terminated, truncated = False, False\n",
    "    while not terminated and not truncated:\n",
    "        action = get_action_from_q_table(target_policy, obs, False, 0.1)\n",
    "        obs, _, terminated, truncated, _ = taxi_env.step(action)\n",
    "\n",
    "end_time = datetime.now().timestamp()\n",
    "\n",
    "print(f\"Time taken: {end_time - start_time}\")\n",
    "print(f\"Avg time per episode: {(end_time - start_time) / NUM_EPISODES}\")"
   ]
  },
  {
   "cell_type": "markdown",
   "metadata": {},
   "source": [
    "## MLP\n"
   ]
  },
  {
   "cell_type": "code",
   "execution_count": 7,
   "metadata": {},
   "outputs": [
    {
     "name": "stderr",
     "output_type": "stream",
     "text": [
      "/var/folders/64/b3z20xjs19938j8j9psfx4580000gn/T/ipykernel_86495/2917061551.py:15: FutureWarning: You are using `torch.load` with `weights_only=False` (the current default value), which uses the default pickle module implicitly. It is possible to construct malicious pickle data which will execute arbitrary code during unpickling (See https://github.com/pytorch/pytorch/blob/main/SECURITY.md#untrusted-models for more details). In a future release, the default value for `weights_only` will be flipped to `True`. This limits the functions that could be executed during unpickling. Arbitrary objects will no longer be allowed to be loaded via this mode unless they are explicitly allowlisted by the user via `torch.serialization.add_safe_globals`. We recommend you start setting `weights_only=True` for any use case where you don't have full control of the loaded file. Please open an issue on GitHub for any issues related to this experimental feature.\n",
      "  sd = torch.load(\n"
     ]
    },
    {
     "data": {
      "text/plain": [
       "TaxiEnvPPOMLPAgent(\n",
       "  (actor): Sequential(\n",
       "    (0): Linear(in_features=500, out_features=256, bias=True)\n",
       "    (1): Tanh()\n",
       "    (2): Linear(in_features=256, out_features=6, bias=True)\n",
       "  )\n",
       "  (critic): Sequential(\n",
       "    (0): Linear(in_features=500, out_features=256, bias=True)\n",
       "    (1): ReLU()\n",
       "    (2): Linear(in_features=256, out_features=256, bias=True)\n",
       "    (3): ReLU()\n",
       "    (4): Linear(in_features=256, out_features=1, bias=True)\n",
       "  )\n",
       ")"
      ]
     },
     "execution_count": 7,
     "metadata": {},
     "output_type": "execute_result"
    }
   ],
   "source": [
    "# MLP\n",
    "mlp_model = construct_model(\n",
    "    actor_latent_size=256,\n",
    "    use_ndnf=False,\n",
    "    use_decode_obs=False,\n",
    "    use_eo=False,\n",
    "    use_mt=False,\n",
    "    share_layer_with_critic=False,\n",
    "    critic_latent_1=256,\n",
    "    critic_latent_2=256,\n",
    "    pretrained_critic=None,\n",
    "    mlp_actor_disable_bias=False,\n",
    ")\n",
    "mlp_model.to(DEVICE)\n",
    "sd = torch.load(\n",
    "    \"../taxi_ppo_storage/taxi_ppo_mlp_raw_al256_cr256x256tanh_3e6_4839/model.pth\",\n",
    "    map_location=DEVICE,\n",
    ")\n",
    "mlp_model.load_state_dict(sd)\n",
    "mlp_model.eval()"
   ]
  },
  {
   "cell_type": "code",
   "execution_count": 8,
   "metadata": {},
   "outputs": [
    {
     "name": "stdout",
     "output_type": "stream",
     "text": [
      "Avg reward: 7.6184\n",
      "Time taken: 17.337646961212158\n",
      "Avg time per episode: 0.0017337646961212158\n"
     ]
    }
   ],
   "source": [
    "# Non-parallel\n",
    "reward_list = []\n",
    "start_time = datetime.now().timestamp()\n",
    "\n",
    "for _ in range(NUM_EPISODES):\n",
    "    obs, _ = taxi_env.reset()\n",
    "    reward_sum = 0\n",
    "    terminated, truncated = False, False\n",
    "    while not terminated and not truncated:\n",
    "        with torch.no_grad():\n",
    "            obs_tensor = taxi_env_preprocess_obs(\n",
    "                obs=np.array([obs]),\n",
    "                use_ndnf=False,\n",
    "                device=DEVICE,\n",
    "            )\n",
    "            action = mlp_model.get_actions(obs_tensor, use_argmax=False)[0]\n",
    "        obs, reward, terminated, truncated, _ = taxi_env.step(action)\n",
    "        reward_sum += reward\n",
    "    reward_list.append(reward_sum)\n",
    "\n",
    "end_time = datetime.now().timestamp()\n",
    "\n",
    "print(f\"Avg reward: {np.mean(reward_list)}\")\n",
    "print(f\"Time taken: {end_time - start_time}\")\n",
    "print(f\"Avg time per episode: {(end_time - start_time) / NUM_EPISODES}\")"
   ]
  },
  {
   "cell_type": "code",
   "execution_count": 9,
   "metadata": {},
   "outputs": [
    {
     "name": "stdout",
     "output_type": "stream",
     "text": [
      "Avg reward: 7.5872\n",
      "Time taken: 7.279323101043701\n",
      "Avg time per episode: 0.0007279323101043702\n"
     ]
    }
   ],
   "source": [
    "# Parallel\n",
    "start_time = datetime.now().timestamp()\n",
    "ret = eval_model_on_environment(\n",
    "    model=mlp_model,\n",
    "    device=DEVICE,\n",
    "    use_argmax=False,\n",
    "    eval_num_runs=NUM_EPISODES,\n",
    ")\n",
    "end_time = datetime.now().timestamp()\n",
    "\n",
    "print(f\"Avg reward: {np.mean(ret['return_per_episode'])}\")\n",
    "print(f\"Time taken: {end_time - start_time}\")\n",
    "print(f\"Avg time per episode: {(end_time - start_time) / NUM_EPISODES}\")"
   ]
  },
  {
   "cell_type": "markdown",
   "metadata": {},
   "source": [
    "# NDNF-MT\n"
   ]
  },
  {
   "cell_type": "code",
   "execution_count": 10,
   "metadata": {},
   "outputs": [
    {
     "name": "stderr",
     "output_type": "stream",
     "text": [
      "/var/folders/64/b3z20xjs19938j8j9psfx4580000gn/T/ipykernel_86495/3416305949.py:9: FutureWarning: You are using `torch.load` with `weights_only=False` (the current default value), which uses the default pickle module implicitly. It is possible to construct malicious pickle data which will execute arbitrary code during unpickling (See https://github.com/pytorch/pytorch/blob/main/SECURITY.md#untrusted-models for more details). In a future release, the default value for `weights_only` will be flipped to `True`. This limits the functions that could be executed during unpickling. Arbitrary objects will no longer be allowed to be loaded via this mode unless they are explicitly allowlisted by the user via `torch.serialization.add_safe_globals`. We recommend you start setting `weights_only=True` for any use case where you don't have full control of the loaded file. Please open an issue on GitHub for any issues related to this experimental feature.\n",
      "  sd = torch.load(\n"
     ]
    },
    {
     "data": {
      "text/plain": [
       "NeuralDNFMutexTanh(\n",
       "  (conjunctions): SemiSymbolic(in_features=500, out_features=64, layer_type=SemiSymbolicLayerType.CONJUNCTION,current_delta=1.00)\n",
       "  (disjunctions): SemiSymbolicMutexTanh(in_features=64, out_features=6, layer_type=SemiSymbolicLayerType.DISJUNCTION,current_delta=1.00)\n",
       ")"
      ]
     },
     "execution_count": 10,
     "metadata": {},
     "output_type": "execute_result"
    }
   ],
   "source": [
    "# NDNF-MT\n",
    "ndnf_mt_model = NeuralDNFMutexTanh(\n",
    "    num_preds=500,\n",
    "    num_conjuncts=64,\n",
    "    n_out=6,\n",
    "    delta=1.0,\n",
    ")\n",
    "ndnf_mt_model.to(DEVICE)\n",
    "sd = torch.load(\n",
    "    \"../taxi_distillation_storage/taxi_distillation_ndnf_mt_actdist_nc64_e5e3_5874/model.pth\",\n",
    "    map_location=DEVICE,\n",
    ")\n",
    "ndnf_mt_model.load_state_dict(sd)\n",
    "ndnf_mt_model.eval()"
   ]
  },
  {
   "cell_type": "code",
   "execution_count": 11,
   "metadata": {},
   "outputs": [
    {
     "name": "stdout",
     "output_type": "stream",
     "text": [
      "Avg reward: 7.415\n",
      "Time taken: 49.95405912399292\n",
      "Avg time per episode: 0.004995405912399292\n"
     ]
    }
   ],
   "source": [
    "# Non-parallel\n",
    "\n",
    "reward_list = []\n",
    "has_truncation = False\n",
    "start_time = datetime.now().timestamp()\n",
    "\n",
    "for _ in range(NUM_EPISODES):\n",
    "    obs, _ = taxi_env.reset()\n",
    "    reward_sum = 0\n",
    "    terminated, truncated = False, False\n",
    "    while not terminated and not truncated:\n",
    "        with torch.no_grad():\n",
    "            action = eval_get_ndnf_action(\n",
    "                ndnf_mt_model, np.array([obs]), DEVICE, use_argmax=False\n",
    "            )[0][0].item()\n",
    "        obs, reward, terminated, truncated, _ = taxi_env.step(action)\n",
    "        reward_sum += reward\n",
    "    reward_list.append(reward_sum)\n",
    "    if truncated:\n",
    "        has_truncation = True\n",
    "\n",
    "end_time = datetime.now().timestamp()\n",
    "\n",
    "print(f\"Avg reward: {np.mean(reward_list)}\")\n",
    "print(f\"Time taken: {end_time - start_time}\")\n",
    "print(f\"Avg time per episode: {(end_time - start_time) / NUM_EPISODES}\")"
   ]
  },
  {
   "cell_type": "code",
   "execution_count": 12,
   "metadata": {},
   "outputs": [
    {
     "name": "stdout",
     "output_type": "stream",
     "text": [
      "Avg reward: 7.4479\n",
      "Time taken: 9.790256023406982\n",
      "Avg time per episode: 0.0009790256023406983\n"
     ]
    }
   ],
   "source": [
    "# Parallel\n",
    "start_time = datetime.now().timestamp()\n",
    "ret = eval_on_environments(\n",
    "    ndnf_model=ndnf_mt_model,\n",
    "    device=DEVICE,\n",
    "    use_argmax=False,\n",
    "    num_episodes=NUM_EPISODES,\n",
    ")\n",
    "end_time = datetime.now().timestamp()\n",
    "\n",
    "print(f\"Avg reward: {ret['env_eval_avg_return_per_episode']}\")\n",
    "print(f\"Time taken: {end_time - start_time}\")\n",
    "print(f\"Avg time per episode: {(end_time - start_time) / NUM_EPISODES}\")"
   ]
  },
  {
   "cell_type": "markdown",
   "metadata": {},
   "source": [
    "# ProbLog\n",
    "\n",
    "Each inference takes more than 30min. We do not evaluate the run time of ProbLog."
   ]
  }
 ],
 "metadata": {
  "kernelspec": {
   "display_name": "phd",
   "language": "python",
   "name": "python3"
  },
  "language_info": {
   "codemirror_mode": {
    "name": "ipython",
    "version": 3
   },
   "file_extension": ".py",
   "mimetype": "text/x-python",
   "name": "python",
   "nbconvert_exporter": "python",
   "pygments_lexer": "ipython3",
   "version": "3.10.12"
  }
 },
 "nbformat": 4,
 "nbformat_minor": 2
}
